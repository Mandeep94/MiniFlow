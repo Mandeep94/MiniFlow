{
 "cells": [
  {
   "cell_type": "code",
   "execution_count": 2,
   "metadata": {
    "collapsed": true
   },
   "outputs": [],
   "source": [
    "class Node(object):\n",
    "    def __init__(self, inbound_nodes=[]):\n",
    "        #Nodes from which this node receives values\n",
    "        self.inbound_nodes = inbound_nodes\n",
    "        #Nodes to which thiss node passes values\n",
    "        self.outbound_nodes = []\n",
    "        # for each inbound node here add this node as an outbound node\n",
    "        for n in self.inbound_nodes:\n",
    "            n.outbound_nodes.append(self)\n",
    "        # A calculated value\n",
    "        self.value = None\n",
    "        \n",
    "    def forward(self):\n",
    "        #compute the output value based on 'inbound_nodes' and store the results in self.value\n",
    "        raise NotImplemented"
   ]
  },
  {
   "cell_type": "code",
   "execution_count": 3,
   "metadata": {
    "collapsed": true
   },
   "outputs": [],
   "source": [
    "class Input(Node):\n",
    "    def __init__(self):\n",
    "        #input node has no inbound nodes\n",
    "        Node.__init__(self)\n",
    "        #it is the only node where the values can be passed as an argument to forward()\n",
    "        def forward(self, value=None) :\n",
    "            if value is not None:\n",
    "                self.value = value"
   ]
  },
  {
   "cell_type": "code",
   "execution_count": null,
   "metadata": {
    "collapsed": true
   },
   "outputs": [],
   "source": [
    "class Add(Node):\n",
    "    #node that perform calculation: Addition\n",
    "    #it takes two inbound nodes and addes the values of those nodes\n",
    "    def __init__(self, x, y):\n",
    "        Node.__init__(self, [x,y])\n",
    "        def forward(self):\n",
    "            "
   ]
  }
 ],
 "metadata": {
  "kernelspec": {
   "display_name": "Python 3",
   "language": "python",
   "name": "python3"
  },
  "language_info": {
   "codemirror_mode": {
    "name": "ipython",
    "version": 3
   },
   "file_extension": ".py",
   "mimetype": "text/x-python",
   "name": "python",
   "nbconvert_exporter": "python",
   "pygments_lexer": "ipython3",
   "version": "3.5.3"
  }
 },
 "nbformat": 4,
 "nbformat_minor": 2
}
